{
 "cells": [
  {
   "cell_type": "markdown",
   "id": "d80e2c69",
   "metadata": {},
   "source": [
    "W.a.p to program to find out the line number where python present from your log file\n"
   ]
  },
  {
   "cell_type": "code",
   "execution_count": 13,
   "id": "cdac94b6",
   "metadata": {},
   "outputs": [
    {
     "name": "stdout",
     "output_type": "stream",
     "text": [
      "03/22 08:51:06 INFO   :...mailbox_register: Python has stopped working\n",
      "\n",
      "Yes python is present on line number 23\n",
      "03/22 08:51:06 INFO   :.....mailslot_create: creating mailslot for RSVP via UDP python\n",
      "\n",
      "Yes python is present on line number 28\n",
      "03/22 08:51:06 INFO   :....mailbox_register: mailbox allocated for rsvpPython\n",
      "\n",
      "Yes python is present on line number 34\n"
     ]
    }
   ],
   "source": [
    "content = True\n",
    "i = 1\n",
    "with open(\"log.txt\") as f:\n",
    "    while content:\n",
    "        content = f.readline()\n",
    "        if 'python' in content.lower():\n",
    "            print(content)\n",
    "            print(f\"Yes python is present on line number {i}\") \n",
    "        i+=1"
   ]
  },
  {
   "cell_type": "code",
   "execution_count": null,
   "id": "55118cad",
   "metadata": {},
   "outputs": [],
   "source": []
  }
 ],
 "metadata": {
  "kernelspec": {
   "display_name": "Python 3 (ipykernel)",
   "language": "python",
   "name": "python3"
  },
  "language_info": {
   "codemirror_mode": {
    "name": "ipython",
    "version": 3
   },
   "file_extension": ".py",
   "mimetype": "text/x-python",
   "name": "python",
   "nbconvert_exporter": "python",
   "pygments_lexer": "ipython3",
   "version": "3.9.7"
  }
 },
 "nbformat": 4,
 "nbformat_minor": 5
}
